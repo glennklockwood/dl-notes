{
 "cells": [
  {
   "cell_type": "markdown",
   "metadata": {},
   "source": [
    "# Implementing a Neural Network\n",
    "\n",
    "This is inspired by <https://pub.towardsai.net/building-neural-networks-from-scratch-with-python-code-and-math-in-detail-i-536fae5d7bbf>'s \"case study\" with corrections."
   ]
  },
  {
   "cell_type": "code",
   "execution_count": 1,
   "metadata": {},
   "outputs": [],
   "source": [
    "%matplotlib inline"
   ]
  },
  {
   "cell_type": "code",
   "execution_count": 2,
   "metadata": {},
   "outputs": [],
   "source": [
    "import time\n",
    "import io\n",
    "\n",
    "import numpy\n",
    "import pandas\n",
    "import matplotlib\n",
    "\n",
    "import torch"
   ]
  },
  {
   "cell_type": "code",
   "execution_count": 3,
   "metadata": {},
   "outputs": [],
   "source": [
    "input_csv = \"\"\"\n",
    "observation,input1,input2,output\n",
    "1,0,0,0\n",
    "2,0,1,1\n",
    "3,1,0,1\n",
    "4,1,1,1\n",
    "\"\"\"\n",
    "\n",
    "dataset = pandas.read_csv(io.StringIO(input_csv), index_col=\"observation\")\n",
    "inputs = dataset.iloc[:,:-1].to_numpy().astype('float32')\n",
    "ground_truth = dataset.iloc[:,-1].to_numpy().reshape(-1, 1).astype('float32')"
   ]
  },
  {
   "cell_type": "code",
   "execution_count": 4,
   "metadata": {},
   "outputs": [
    {
     "name": "stdout",
     "output_type": "stream",
     "text": [
      "[[0. 0.]\n",
      " [0. 1.]\n",
      " [1. 0.]\n",
      " [1. 1.]]\n",
      "[[0.]\n",
      " [1.]\n",
      " [1.]\n",
      " [1.]]\n"
     ]
    }
   ],
   "source": [
    "print(inputs)\n",
    "print(ground_truth)"
   ]
  },
  {
   "cell_type": "code",
   "execution_count": 5,
   "metadata": {},
   "outputs": [],
   "source": [
    "LEARNING_RATE = 0.05\n",
    "NUM_ITERATIONS = 10000"
   ]
  },
  {
   "cell_type": "markdown",
   "metadata": {},
   "source": [
    "## By Hand"
   ]
  },
  {
   "cell_type": "code",
   "execution_count": 6,
   "metadata": {},
   "outputs": [],
   "source": [
    "def linear(x, weights, bias):\n",
    "    return numpy.dot(x, weights) + bias\n",
    "\n",
    "def sigmoid(x):\n",
    "    return 1.0 / (1.0 + numpy.exp(-x))\n",
    "\n",
    "def d_sigmoid(x):\n",
    "    y = sigmoid(x)\n",
    "    return y * (1.0 - y)"
   ]
  },
  {
   "cell_type": "code",
   "execution_count": 7,
   "metadata": {},
   "outputs": [],
   "source": [
    "weights = numpy.random.rand(inputs.shape[1], 1)\n",
    "bias = numpy.random.rand(1)[0]"
   ]
  },
  {
   "cell_type": "code",
   "execution_count": 8,
   "metadata": {},
   "outputs": [
    {
     "name": "stdout",
     "output_type": "stream",
     "text": [
      "error at step     0:   1.13e+00\n",
      "error at step  1000:   2.64e-01\n",
      "error at step  2000:   1.16e-01\n",
      "error at step  3000:   7.28e-02\n",
      "error at step  4000:   5.26e-02\n",
      "error at step  5000:   4.10e-02\n",
      "error at step  6000:   3.36e-02\n",
      "error at step  7000:   2.84e-02\n",
      "error at step  8000:   2.46e-02\n",
      "error at step  9000:   2.17e-02\n",
      "Final weights: [9.9616462 9.9616605]\n",
      "Final bias:    -4.515347139703512\n",
      "10000 iterations took 1.6 seconds\n"
     ]
    }
   ],
   "source": [
    "t0 = time.time()\n",
    "for i in range(NUM_ITERATIONS):\n",
    "    y = linear(inputs, weights, bias)\n",
    "    f = sigmoid(y)\n",
    "    \n",
    "    error = numpy.abs(f - ground_truth)\n",
    "    \n",
    "    # calculate out partial derivatives for each input\n",
    "    dE_df = error/(f - ground_truth)\n",
    "    df_dy = d_sigmoid(y)\n",
    "    dE_dy = dE_df * df_dy\n",
    "    dE_dw = numpy.dot(inputs.T, dE_dy)  # dy_dw = x\n",
    "\n",
    "    # update weights and biases - the error is the sum of error over each input\n",
    "    weights -= LEARNING_RATE * dE_dw\n",
    "    bias -= LEARNING_RATE * dE_dy.sum()\n",
    "\n",
    "    if i % (NUM_ITERATIONS / 10) == 0:\n",
    "        print(\"error at step {:5d}: {:10.2e}\".format(i, error.sum()))\n",
    "\n",
    "print(\"Final weights: {}\".format(weights.flatten()))\n",
    "print(\"Final bias:    {}\".format(bias))\n",
    "print(\"{:d} iterations took {:.1f} seconds\".format(NUM_ITERATIONS, time.time() - t0))"
   ]
  },
  {
   "cell_type": "code",
   "execution_count": 9,
   "metadata": {},
   "outputs": [
    {
     "data": {
      "text/html": [
       "<div>\n",
       "<style scoped>\n",
       "    .dataframe tbody tr th:only-of-type {\n",
       "        vertical-align: middle;\n",
       "    }\n",
       "\n",
       "    .dataframe tbody tr th {\n",
       "        vertical-align: top;\n",
       "    }\n",
       "\n",
       "    .dataframe thead th {\n",
       "        text-align: right;\n",
       "    }\n",
       "</style>\n",
       "<table border=\"1\" class=\"dataframe\">\n",
       "  <thead>\n",
       "    <tr style=\"text-align: right;\">\n",
       "      <th></th>\n",
       "      <th>input1</th>\n",
       "      <th>input2</th>\n",
       "      <th>output</th>\n",
       "      <th>prediction</th>\n",
       "      <th>error</th>\n",
       "    </tr>\n",
       "    <tr>\n",
       "      <th>observation</th>\n",
       "      <th></th>\n",
       "      <th></th>\n",
       "      <th></th>\n",
       "      <th></th>\n",
       "      <th></th>\n",
       "    </tr>\n",
       "  </thead>\n",
       "  <tbody>\n",
       "    <tr>\n",
       "      <th>1</th>\n",
       "      <td>0</td>\n",
       "      <td>0</td>\n",
       "      <td>0</td>\n",
       "      <td>0.010821</td>\n",
       "      <td>-1.082142e-02</td>\n",
       "    </tr>\n",
       "    <tr>\n",
       "      <th>2</th>\n",
       "      <td>0</td>\n",
       "      <td>1</td>\n",
       "      <td>1</td>\n",
       "      <td>0.995706</td>\n",
       "      <td>4.293658e-03</td>\n",
       "    </tr>\n",
       "    <tr>\n",
       "      <th>3</th>\n",
       "      <td>1</td>\n",
       "      <td>0</td>\n",
       "      <td>1</td>\n",
       "      <td>0.995706</td>\n",
       "      <td>4.293719e-03</td>\n",
       "    </tr>\n",
       "    <tr>\n",
       "      <th>4</th>\n",
       "      <td>1</td>\n",
       "      <td>1</td>\n",
       "      <td>1</td>\n",
       "      <td>1.000000</td>\n",
       "      <td>2.034268e-07</td>\n",
       "    </tr>\n",
       "  </tbody>\n",
       "</table>\n",
       "</div>"
      ],
      "text/plain": [
       "             input1  input2  output  prediction         error\n",
       "observation                                                  \n",
       "1                 0       0       0    0.010821 -1.082142e-02\n",
       "2                 0       1       1    0.995706  4.293658e-03\n",
       "3                 1       0       1    0.995706  4.293719e-03\n",
       "4                 1       1       1    1.000000  2.034268e-07"
      ]
     },
     "execution_count": 9,
     "metadata": {},
     "output_type": "execute_result"
    }
   ],
   "source": [
    "predicted_output = sigmoid(linear(inputs, weights, bias))\n",
    "predicted_output = pandas.DataFrame(\n",
    "    predicted_output,\n",
    "    columns=[\"prediction\"],\n",
    "    index=dataset.index)\n",
    "\n",
    "output = pandas.concat(\n",
    "    (dataset, predicted_output),\n",
    "    axis=1)\n",
    "output['error'] = output['output'] - output['prediction']\n",
    "output"
   ]
  },
  {
   "cell_type": "markdown",
   "metadata": {},
   "source": [
    "## PyTorch"
   ]
  },
  {
   "cell_type": "code",
   "execution_count": 10,
   "metadata": {},
   "outputs": [
    {
     "name": "stdout",
     "output_type": "stream",
     "text": [
      "Starting weights: tensor([-0.0930, -0.5388], grad_fn=<ViewBackward>)\n",
      "Starting bias: Parameter containing:\n",
      "tensor([-0.1633], requires_grad=True)\n"
     ]
    }
   ],
   "source": [
    "# torch.manual_seed(0)\n",
    "\n",
    "model = torch.nn.Sequential(\n",
    "    torch.nn.Linear(inputs.shape[1], 1),\n",
    "    torch.nn.Sigmoid())\n",
    "\n",
    "print(\"Starting weights: {}\".format(model[0].weight.flatten()))\n",
    "print(\"Starting bias: {}\".format(model[0].bias.flatten()))"
   ]
  },
  {
   "cell_type": "code",
   "execution_count": 11,
   "metadata": {},
   "outputs": [
    {
     "name": "stdout",
     "output_type": "stream",
     "text": [
      "error at step     0:   2.38e+00\n",
      "error at step  1000:   2.71e-01\n",
      "error at step  2000:   1.18e-01\n",
      "error at step  3000:   7.34e-02\n",
      "error at step  4000:   5.29e-02\n",
      "error at step  5000:   4.12e-02\n",
      "error at step  6000:   3.37e-02\n",
      "error at step  7000:   2.85e-02\n",
      "error at step  8000:   2.47e-02\n",
      "error at step  9000:   2.18e-02\n",
      "Final weights: [9.957234 9.957111]\n",
      "Final bias:    -4.513090133666992\n",
      "10000 iterations took 8.1 seconds\n"
     ]
    }
   ],
   "source": [
    "inputs_tensor = torch.from_numpy(inputs)\n",
    "truth_tensor = torch.from_numpy(ground_truth.reshape(-1, 1))\n",
    "\n",
    "loss = torch.nn.L1Loss(reduction='sum')\n",
    "\n",
    "optimizer = torch.optim.SGD(model.parameters(), lr=LEARNING_RATE)\n",
    "\n",
    "model.train()\n",
    "t0 = time.time()\n",
    "for i in range(NUM_ITERATIONS):\n",
    "    f = model(inputs_tensor)\n",
    "\n",
    "    error = loss(f, truth_tensor)\n",
    "\n",
    "    optimizer.zero_grad()\n",
    "\n",
    "    error.backward()\n",
    "\n",
    "    optimizer.step()\n",
    "\n",
    "    if i % (NUM_ITERATIONS / 10) == 0:\n",
    "        print(\"error at step {:5d}: {:10.2e}\".format(i, error.sum()))\n",
    "\n",
    "print(\"Final weights: {}\".format(next(model.parameters()).detach().numpy().flatten()))\n",
    "print(\"Final bias:    {}\".format(list(model.parameters())[-1].item()))\n",
    "print(\"{:d} iterations took {:.1f} seconds\".format(NUM_ITERATIONS, time.time() - t0))"
   ]
  },
  {
   "cell_type": "code",
   "execution_count": 12,
   "metadata": {},
   "outputs": [
    {
     "data": {
      "text/html": [
       "<div>\n",
       "<style scoped>\n",
       "    .dataframe tbody tr th:only-of-type {\n",
       "        vertical-align: middle;\n",
       "    }\n",
       "\n",
       "    .dataframe tbody tr th {\n",
       "        vertical-align: top;\n",
       "    }\n",
       "\n",
       "    .dataframe thead th {\n",
       "        text-align: right;\n",
       "    }\n",
       "</style>\n",
       "<table border=\"1\" class=\"dataframe\">\n",
       "  <thead>\n",
       "    <tr style=\"text-align: right;\">\n",
       "      <th></th>\n",
       "      <th>input1</th>\n",
       "      <th>input2</th>\n",
       "      <th>output</th>\n",
       "      <th>prediction</th>\n",
       "      <th>error</th>\n",
       "    </tr>\n",
       "    <tr>\n",
       "      <th>observation</th>\n",
       "      <th></th>\n",
       "      <th></th>\n",
       "      <th></th>\n",
       "      <th></th>\n",
       "      <th></th>\n",
       "    </tr>\n",
       "  </thead>\n",
       "  <tbody>\n",
       "    <tr>\n",
       "      <th>1</th>\n",
       "      <td>0</td>\n",
       "      <td>0</td>\n",
       "      <td>0</td>\n",
       "      <td>0.010846</td>\n",
       "      <td>-1.084561e-02</td>\n",
       "    </tr>\n",
       "    <tr>\n",
       "      <th>2</th>\n",
       "      <td>0</td>\n",
       "      <td>1</td>\n",
       "      <td>1</td>\n",
       "      <td>0.995697</td>\n",
       "      <td>4.303455e-03</td>\n",
       "    </tr>\n",
       "    <tr>\n",
       "      <th>3</th>\n",
       "      <td>1</td>\n",
       "      <td>0</td>\n",
       "      <td>1</td>\n",
       "      <td>0.995697</td>\n",
       "      <td>4.302979e-03</td>\n",
       "    </tr>\n",
       "    <tr>\n",
       "      <th>4</th>\n",
       "      <td>1</td>\n",
       "      <td>1</td>\n",
       "      <td>1</td>\n",
       "      <td>1.000000</td>\n",
       "      <td>2.384186e-07</td>\n",
       "    </tr>\n",
       "  </tbody>\n",
       "</table>\n",
       "</div>"
      ],
      "text/plain": [
       "             input1  input2  output  prediction         error\n",
       "observation                                                  \n",
       "1                 0       0       0    0.010846 -1.084561e-02\n",
       "2                 0       1       1    0.995697  4.303455e-03\n",
       "3                 1       0       1    0.995697  4.302979e-03\n",
       "4                 1       1       1    1.000000  2.384186e-07"
      ]
     },
     "execution_count": 12,
     "metadata": {},
     "output_type": "execute_result"
    }
   ],
   "source": [
    "model.eval()\n",
    "\n",
    "predicted_output = model(inputs_tensor).detach().numpy()\n",
    "predicted_output = pandas.DataFrame(\n",
    "    predicted_output,\n",
    "    columns=[\"prediction\"],\n",
    "    index=dataset.index)\n",
    "\n",
    "output = pandas.concat(\n",
    "    (dataset, predicted_output),\n",
    "    axis=1)\n",
    "output['error'] = output['output'] - output['prediction']\n",
    "output"
   ]
  },
  {
   "cell_type": "code",
   "execution_count": null,
   "metadata": {},
   "outputs": [],
   "source": []
  }
 ],
 "metadata": {
  "kernelspec": {
   "display_name": "Python 3",
   "language": "python",
   "name": "python3"
  },
  "language_info": {
   "codemirror_mode": {
    "name": "ipython",
    "version": 3
   },
   "file_extension": ".py",
   "mimetype": "text/x-python",
   "name": "python",
   "nbconvert_exporter": "python",
   "pygments_lexer": "ipython3",
   "version": "3.6.9"
  }
 },
 "nbformat": 4,
 "nbformat_minor": 4
}
